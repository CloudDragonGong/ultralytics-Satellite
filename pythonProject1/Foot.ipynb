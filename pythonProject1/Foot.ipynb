{
 "cells": [
  {
   "cell_type": "code",
   "id": "initial_id",
   "metadata": {
    "collapsed": true,
    "ExecuteTime": {
     "end_time": "2025-05-01T12:11:22.919214Z",
     "start_time": "2025-05-01T12:11:22.912494Z"
    }
   },
   "source": [
    "import os\n",
    "\n",
    "from ultralytics.data.annotator import auto_annotate"
   ],
   "outputs": [],
   "execution_count": 15
  },
  {
   "metadata": {
    "jupyter": {
     "is_executing": true
    },
    "ExecuteTime": {
     "start_time": "2025-05-01T12:11:25.656483Z"
    }
   },
   "cell_type": "code",
   "source": [
    "auto_annotate(data='/Volumes/My Passport/dataset/UESD/yolov11/val/images',\n",
    "              det_model='/Users/mac/data/workspace/ultralytics-Satellite/runs/segment/train14/weights/best.pt',\n",
    "              sam_model='sam_b.pt',\n",
    "              imgsz=1280,\n",
    "              output_dir='/Volumes/My Passport/dataset/UESD/yolov11/val/sam_labels_yolo')"
   ],
   "id": "53fa1e1f2c8feb76",
   "outputs": [
    {
     "name": "stdout",
     "output_type": "stream",
     "text": [
      "\n",
      "image 1/2000 /Volumes/My Passport/dataset/UESD/yolov11/val/images/00007.png: 864x1280 3 antennas, 2 solar panels, 960.5ms\n",
      "image 2/2000 /Volumes/My Passport/dataset/UESD/yolov11/val/images/00010.png: 864x1280 1 antenna, 1 solar panel, 1 instrument, 672.7ms\n",
      "image 3/2000 /Volumes/My Passport/dataset/UESD/yolov11/val/images/00021.png: 864x1280 4 solar panels, 1 instrument, 635.6ms\n",
      "image 4/2000 /Volumes/My Passport/dataset/UESD/yolov11/val/images/00023.png: 864x1280 1 antenna, 4 solar panels, 747.3ms\n",
      "image 5/2000 /Volumes/My Passport/dataset/UESD/yolov11/val/images/00027.png: 864x1280 1 antenna, 4 solar panels, 669.0ms\n",
      "image 6/2000 /Volumes/My Passport/dataset/UESD/yolov11/val/images/00033.png: 864x1280 1 antenna, 4 solar panels, 676.8ms\n",
      "image 7/2000 /Volumes/My Passport/dataset/UESD/yolov11/val/images/00042.png: 864x1280 4 solar panels, 1 instrument, 687.8ms\n",
      "image 8/2000 /Volumes/My Passport/dataset/UESD/yolov11/val/images/00044.png: 864x1280 1 antenna, 4 solar panels, 707.7ms\n",
      "image 9/2000 /Volumes/My Passport/dataset/UESD/yolov11/val/images/00045.png: 864x1280 1 solar panel, 728.4ms\n",
      "image 10/2000 /Volumes/My Passport/dataset/UESD/yolov11/val/images/00051.png: 864x1280 1 solar panel, 741.5ms\n",
      "image 11/2000 /Volumes/My Passport/dataset/UESD/yolov11/val/images/00058.png: 864x1280 1 solar panel, 779.7ms\n",
      "image 12/2000 /Volumes/My Passport/dataset/UESD/yolov11/val/images/00059.png: 864x1280 1 solar panel, 751.6ms\n",
      "image 13/2000 /Volumes/My Passport/dataset/UESD/yolov11/val/images/00060.png: 864x1280 1 solar panel, 775.2ms\n",
      "image 14/2000 /Volumes/My Passport/dataset/UESD/yolov11/val/images/00061.png: 864x1280 1 solar panel, 1068.3ms\n",
      "image 15/2000 /Volumes/My Passport/dataset/UESD/yolov11/val/images/00063.png: 864x1280 1 antenna, 1 solar panel, 809.7ms\n",
      "image 16/2000 /Volumes/My Passport/dataset/UESD/yolov11/val/images/00065.png: 864x1280 1 solar panel, 811.5ms\n",
      "image 17/2000 /Volumes/My Passport/dataset/UESD/yolov11/val/images/00075.png: 864x1280 1 antenna, 1 solar panel, 753.0ms\n",
      "image 18/2000 /Volumes/My Passport/dataset/UESD/yolov11/val/images/00101.png: 864x1280 3 antennas, 2 solar panels, 783.9ms\n",
      "image 19/2000 /Volumes/My Passport/dataset/UESD/yolov11/val/images/00105.png: 864x1280 3 antennas, 2 solar panels, 755.0ms\n",
      "image 20/2000 /Volumes/My Passport/dataset/UESD/yolov11/val/images/00117.png: 864x1280 3 antennas, 2 solar panels, 838.4ms\n",
      "image 21/2000 /Volumes/My Passport/dataset/UESD/yolov11/val/images/00122.png: 864x1280 3 antennas, 2 solar panels, 768.6ms\n",
      "image 22/2000 /Volumes/My Passport/dataset/UESD/yolov11/val/images/00141.png: 864x1280 3 antennas, 2 solar panels, 786.9ms\n",
      "image 23/2000 /Volumes/My Passport/dataset/UESD/yolov11/val/images/00151.png: 864x1280 2 antennas, 2 solar panels, 776.5ms\n",
      "image 24/2000 /Volumes/My Passport/dataset/UESD/yolov11/val/images/00152.png: 864x1280 2 antennas, 2 solar panels, 767.0ms\n",
      "image 25/2000 /Volumes/My Passport/dataset/UESD/yolov11/val/images/00157.png: 864x1280 3 antennas, 2 solar panels, 759.3ms\n",
      "image 26/2000 /Volumes/My Passport/dataset/UESD/yolov11/val/images/00168.png: 864x1280 1 antenna, 4 solar panels, 742.4ms\n",
      "image 27/2000 /Volumes/My Passport/dataset/UESD/yolov11/val/images/00182.png: 864x1280 4 solar panels, 1 instrument, 794.6ms\n",
      "image 28/2000 /Volumes/My Passport/dataset/UESD/yolov11/val/images/00183.png: 864x1280 4 solar panels, 1 instrument, 853.2ms\n",
      "image 29/2000 /Volumes/My Passport/dataset/UESD/yolov11/val/images/00205.png: 864x1280 1 antenna, 4 solar panels, 796.4ms\n",
      "image 30/2000 /Volumes/My Passport/dataset/UESD/yolov11/val/images/00209.png: 832x1280 1 antenna, 2 instruments, 775.0ms\n",
      "image 31/2000 /Volumes/My Passport/dataset/UESD/yolov11/val/images/00212.png: 832x1280 1 antenna, 2 instruments, 783.6ms\n",
      "image 32/2000 /Volumes/My Passport/dataset/UESD/yolov11/val/images/00214.png: 832x1280 1 antenna, 3 instruments, 797.5ms\n",
      "image 33/2000 /Volumes/My Passport/dataset/UESD/yolov11/val/images/00219.png: 832x1280 1 antenna, 3 instruments, 849.0ms\n",
      "image 34/2000 /Volumes/My Passport/dataset/UESD/yolov11/val/images/00223.png: 832x1280 1 antenna, 3 instruments, 943.2ms\n"
     ]
    }
   ],
   "execution_count": null
  },
  {
   "metadata": {
    "ExecuteTime": {
     "end_time": "2025-04-25T13:22:51.489128Z",
     "start_time": "2025-04-25T13:22:51.486352Z"
    }
   },
   "cell_type": "code",
   "source": [
    "img_path ='/Volumes/My Passport/dataset/UESD/test/images' \n",
    "label_path = '/Volumes/My Passport/dataset/UESD/test/labels' \n",
    "save_path = '/Volumes/My Passport/dataset/UESD/test/g_labels'  "
   ],
   "id": "f5853be8a97108c1",
   "outputs": [],
   "execution_count": 1
  },
  {
   "metadata": {
    "ExecuteTime": {
     "end_time": "2025-05-01T11:48:04.391132Z",
     "start_time": "2025-05-01T11:48:04.349573Z"
    }
   },
   "cell_type": "code",
   "source": [
    "# 将yolo格式的mask标签转化为图像掩码格式的  \n",
    "\n",
    "import os  \n",
    "import cv2  \n",
    "import numpy as np  \n",
    "\n",
    "# YOLO标签的顺序：0-antenna, 1-solar panel, 2-instrument, 3-thruster, 4-opticpayload  \n",
    "id2name = {0: 'antenna', 1: 'solar panel', 2: 'instrument', 3: 'thruster', 4: 'opticpayload'}  \n",
    "class2color = {'antenna': 2, 'solar panel': 1, 'instrument': 3, 'thruster': 4, 'opticpayload': 5}  \n",
    "\n",
    "def yolo_poly_to_points(poly, w, h):  \n",
    "    '''YOLO格式的分割点序列（normalized）转绝对坐标'''  \n",
    "    # 输入格式类似：'0 x1 y1 x2 y2 x3 y3 ...'  \n",
    "    points = []  \n",
    "    for i in range(0, len(poly), 2):  \n",
    "        x = float(poly[i]) * w  \n",
    "        y = float(poly[i + 1]) * h  \n",
    "        points.append([int(x), int(y)])  \n",
    "    return np.array([points], dtype=np.int32)  \n",
    "\n",
    "def txt2mask(txtfile, img_shape):  \n",
    "    # 新建和图片一样大小的mask  \n",
    "    mask = np.zeros(img_shape[:2], dtype=np.uint8)  \n",
    "    with open(txtfile, 'r') as f:  \n",
    "        lines = f.readlines()  \n",
    "    for line in lines:  \n",
    "        arr = line.strip().split()  \n",
    "        if len(arr) < 7: continue  # 至少3点才有面  \n",
    "        class_id = int(arr[0])  \n",
    "        name = id2name[class_id]  \n",
    "        color = class2color[name]  \n",
    "        poly = arr[1:]  \n",
    "        points = yolo_poly_to_points(poly, img_shape[1], img_shape[0])  \n",
    "        cv2.fillPoly(mask, points, color)  \n",
    "    return mask  \n",
    "\n",
    "def process(txt_dir, img_dir, mask_dir):  \n",
    "    os.makedirs(mask_dir, exist_ok=True)  \n",
    "    for fname in os.listdir(txt_dir):  \n",
    "        if not fname.endswith('.txt'): continue  \n",
    "        txt_path = os.path.join(txt_dir, fname)  \n",
    "        # 假设图片名和标签名除了扩展名完全相同  \n",
    "        img_name = fname.rsplit('.', 1)[0] + '.png'  \n",
    "        img_path = os.path.join(img_dir, img_name)  \n",
    "        if not os.path.exists(img_path):  # 支持jpg, jpeg  \n",
    "            img_name = fname.rsplit('.', 1)[0] + '.jpg'  \n",
    "            img_path = os.path.join(img_dir, img_name)  \n",
    "        if not os.path.exists(img_path):  \n",
    "            img_name = fname.rsplit('.', 1)[0] + '.jpeg'  \n",
    "            img_path = os.path.join(img_dir, img_name)  \n",
    "        if not os.path.exists(img_path):  \n",
    "            print(f\"Image for {fname} not found, skip.\")  \n",
    "            continue  \n",
    "        img = cv2.imread(img_path)  \n",
    "        if img is None:  \n",
    "            print(f\"Failed to read image {img_path}, skip.\")  \n",
    "            continue  \n",
    "        mask = txt2mask(txt_path, img.shape)  \n",
    "        mask_name = fname.rsplit('.', 1)[0] + '.png'  \n",
    "        mask_path = os.path.join(mask_dir, mask_name)  \n",
    "        cv2.imwrite(mask_path, mask)  \n",
    "        print(f\"Saved mask: {mask_path}\")  "
   ],
   "id": "872e1792e8b8f31a",
   "outputs": [],
   "execution_count": 13
  },
  {
   "metadata": {
    "ExecuteTime": {
     "end_time": "2025-05-01T11:48:09.076563Z",
     "start_time": "2025-05-01T11:48:07.886457Z"
    }
   },
   "cell_type": "code",
   "source": [
    "    txt_dir = r'/Volumes/My Passport/dataset/UESD/test/labels'     # 标签txt所在目录  \n",
    "    img_dir = r'/Volumes/My Passport/dataset/UESD/test/images'   # 原始图片目录  \n",
    "    mask_dir = r'/Volumes/My Passport/dataset/UESD/test/g_labels'   # 输出mask目录  \n",
    "\n",
    "    process(txt_dir, img_dir, mask_dir)  "
   ],
   "id": "aca6c9f68d63d2bd",
   "outputs": [
    {
     "name": "stdout",
     "output_type": "stream",
     "text": [
      "Saved mask: /Volumes/My Passport/dataset/UESD/test/g_labels/00001.png\n",
      "Saved mask: /Volumes/My Passport/dataset/UESD/test/g_labels/00002.png\n",
      "Saved mask: /Volumes/My Passport/dataset/UESD/test/g_labels/00003.png\n",
      "Saved mask: /Volumes/My Passport/dataset/UESD/test/g_labels/00004.png\n",
      "Saved mask: /Volumes/My Passport/dataset/UESD/test/g_labels/00005.png\n",
      "Saved mask: /Volumes/My Passport/dataset/UESD/test/g_labels/00006.png\n",
      "Saved mask: /Volumes/My Passport/dataset/UESD/test/g_labels/00008.png\n",
      "Saved mask: /Volumes/My Passport/dataset/UESD/test/g_labels/00009.png\n",
      "Saved mask: /Volumes/My Passport/dataset/UESD/test/g_labels/00011.png\n",
      "Saved mask: /Volumes/My Passport/dataset/UESD/test/g_labels/00012.png\n",
      "Saved mask: /Volumes/My Passport/dataset/UESD/test/g_labels/00013.png\n",
      "Saved mask: /Volumes/My Passport/dataset/UESD/test/g_labels/00014.png\n",
      "Failed to read image /Volumes/My Passport/dataset/UESD/test/images/._00001.png, skip.\n",
      "Failed to read image /Volumes/My Passport/dataset/UESD/test/images/._00013.png, skip.\n"
     ]
    }
   ],
   "execution_count": 14
  }
 ],
 "metadata": {
  "kernelspec": {
   "display_name": "Python 3",
   "language": "python",
   "name": "python3"
  },
  "language_info": {
   "codemirror_mode": {
    "name": "ipython",
    "version": 2
   },
   "file_extension": ".py",
   "mimetype": "text/x-python",
   "name": "python",
   "nbconvert_exporter": "python",
   "pygments_lexer": "ipython2",
   "version": "2.7.6"
  }
 },
 "nbformat": 4,
 "nbformat_minor": 5
}
